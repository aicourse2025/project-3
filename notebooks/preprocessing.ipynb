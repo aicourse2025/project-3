{
 "cells": [
  {
   "cell_type": "markdown",
   "metadata": {},
   "source": [
    "# Preprocessing\n",
    "This file contains some preprocessing steps"
   ]
  },
  {
   "cell_type": "markdown",
   "metadata": {},
   "source": [
    "## Load the data"
   ]
  },
  {
   "cell_type": "code",
   "execution_count": null,
   "metadata": {},
   "outputs": [],
   "source": [
    "import pandas as pd\n",
    "\n",
    "news_articles = pd.read_csv(\"../dataset/data.csv\")\n",
    "\n",
    "print(news_articles.dtypes, news_articles.shape)\n",
    "news_articles.head()"
   ]
  },
  {
   "cell_type": "markdown",
   "metadata": {},
   "source": [
    "## Deeper data evaluation"
   ]
  },
  {
   "cell_type": "code",
   "execution_count": null,
   "metadata": {},
   "outputs": [],
   "source": [
    "# check for missing values\n",
    "print(news_articles.isnull().sum())\n",
    "\n",
    "# Understand the data\n",
    "print(\"Unique label values:\", news_articles.label.unique())\n",
    "print(\"Unique subject values:\", news_articles.subject.unique())\n",
    "\n",
    "# Check for empty strings\n",
    "empty_title = news_articles[news_articles['title'].str.strip() == '']\n",
    "empty_text = news_articles[news_articles['text'].str.strip() == '']\n",
    "empty_subject = news_articles[news_articles['subject'].str.strip() == '']\n",
    "empty_date = news_articles[news_articles['date'].str.strip() == '']\n",
    "\n",
    "print(f\"Empty titles: {len(empty_title)}\")\n",
    "print(f\"Empty texts: {len(empty_text)}\")\n",
    "print(f\"Empty subjects: {len(empty_subject)}\")\n",
    "print(f\"Empty dates: {len(empty_date)}\")\n",
    "\n",
    "\n",
    "# Check for duplicated articles\n",
    "print(\"Duplicated entries:\", news_articles.duplicated(subset=[\"label\", 'title', 'text']).sum())\n"
   ]
  },
  {
   "cell_type": "markdown",
   "metadata": {},
   "source": [
    "## Data cleaning\n",
    "### Basic data cleaning"
   ]
  },
  {
   "cell_type": "code",
   "execution_count": null,
   "metadata": {},
   "outputs": [],
   "source": [
    "from sklearn.preprocessing import LabelEncoder\n",
    "\n",
    "# Remove duplicates and keep the first one\n",
    "news_articles = news_articles.drop_duplicates(subset=[\"label\", 'title', 'text'])\n",
    "\n",
    "# Remove articles with empty text\n",
    "news_articles = news_articles[news_articles[\"text\"].str.strip() != \"\"]\n",
    "\n",
    "# One Hot encoding for subject column\n",
    "# news_articles = pd.get_dummies(news_articles, columns=[\"subject\"])\n",
    "\n",
    "le = LabelEncoder()\n",
    "news_articles['subject'] = le.fit_transform(news_articles['subject'])\n",
    "\n",
    "# Combine both text columns\n",
    "news_articles[\"title_text\"] = news_articles[\"title\"] + news_articles[\"text\"]\n",
    "news_articles.drop(columns=[\"title\", \"text\"], inplace=True)\n",
    "\n",
    "news_articles.shape"
   ]
  },
  {
   "cell_type": "markdown",
   "metadata": {},
   "source": [
    "### Handle dates"
   ]
  },
  {
   "cell_type": "code",
   "execution_count": null,
   "metadata": {},
   "outputs": [],
   "source": [
    "from datetime import datetime\n",
    "\n",
    "#  Strip empty spaces from date values\n",
    "news_articles['date'] = news_articles['date'].str.strip()\n",
    "\n",
    "def parse_date(date_text):\n",
    "    \"\"\"\n",
    "    Attempts to parse a date string into a datetime object using multiple formats.\n",
    "    If none of the formats match, returns pd.NaT to indicate a missing datetime.\n",
    "    \n",
    "    Parameters:\n",
    "        date_text (str): The date string to parse.\n",
    "        \n",
    "    Returns:\n",
    "        datetime or pd.NaT (Not a time)\n",
    "    \"\"\"\n",
    "    for format in (\"%B %d, %Y\", \"%b %d, %Y\", \"%d-%b-%y\"):\n",
    "        try:\n",
    "            return datetime.strptime(date_text, format)\n",
    "        except Exception:\n",
    "            # Try next format\n",
    "            continue\n",
    "    return pd.NaT\n",
    "\n",
    "# Convert date column to date-time format\n",
    "news_articles['date'] = news_articles[\"date\"].apply(parse_date)\n",
    "\n",
    "# Remove rows with non parsable date format\n",
    "news_articles = news_articles[news_articles[\"date\"].isna() == False]\n",
    "\n",
    "# Handle date column and prevent temporal leakage\n",
    "news_articles['year'] = news_articles['date'].dt.year\n",
    "news_articles['month'] = news_articles['date'].dt.month\n",
    "news_articles['day'] = news_articles['date'].dt.day\n",
    "\n",
    "news_articles.drop(columns=[\"date\"], inplace=True)\n",
    "\n",
    "news_articles.head()"
   ]
  },
  {
   "cell_type": "markdown",
   "metadata": {},
   "source": [
    "### Corrolation Matrix"
   ]
  },
  {
   "cell_type": "code",
   "execution_count": null,
   "metadata": {},
   "outputs": [],
   "source": [
    "import seaborn as sns\n",
    "import matplotlib.pyplot as plt\n",
    "\n",
    "correlation_matrix = news_articles.corr(numeric_only=True)\n",
    "\n",
    "# Heatmap visualisieren\n",
    "plt.figure(figsize=(12, 10))\n",
    "sns.heatmap(correlation_matrix, cmap='coolwarm', annot=True)\n",
    "plt.title(\"Corrolation matrix\")\n",
    "plt.show()"
   ]
  },
  {
   "cell_type": "code",
   "execution_count": null,
   "metadata": {},
   "outputs": [],
   "source": [
    "sns.countplot(x='year', hue='label', data=news_articles)\n",
    "plt.title('Labels per year')\n",
    "plt.show()\n",
    "\n",
    "sns.countplot(x='subject', hue='label', data=news_articles)\n",
    "plt.title('Subject per Year')\n",
    "plt.show()"
   ]
  },
  {
   "cell_type": "code",
   "execution_count": null,
   "metadata": {},
   "outputs": [],
   "source": [
    "# Each subject is always assigned to exactly one label. This correlation was not recognizable in the matrix, but in the countplot.\n",
    "# This means that the subject must be removed.\n",
    "news_articles.drop(columns=[\"subject\"], inplace=True)\n",
    "\n",
    "valid_years = [2016, 2017]\n",
    "\n",
    "# Filter out other years\n",
    "news_articles = news_articles[news_articles['year'].isin(valid_years)]\n",
    "\n",
    "news_articles.shape"
   ]
  },
  {
   "cell_type": "markdown",
   "metadata": {},
   "source": [
    "## Train / Test Split\n",
    "Perform train / test split before text preprocessing to avoid data leakage.<br />\n",
    "This ensures that no information from the test set influences the preprocessing steps."
   ]
  },
  {
   "cell_type": "code",
   "execution_count": null,
   "metadata": {},
   "outputs": [],
   "source": [
    "from sklearn.model_selection import train_test_split\n",
    "\n",
    "y = news_articles[\"label\"]\n",
    "X = news_articles.drop(columns=[\"label\"])\n",
    "\n",
    "X_train, X_test, y_train, y_test = train_test_split(X, y, test_size=.2, random_state=0, shuffle=True)"
   ]
  },
  {
   "cell_type": "markdown",
   "metadata": {},
   "source": [
    "## Preprocess text columns"
   ]
  },
  {
   "cell_type": "code",
   "execution_count": 47,
   "metadata": {},
   "outputs": [],
   "source": [
    "import string\n",
    "from nltk.tokenize import word_tokenize\n",
    "from nltk.stem import WordNetLemmatizer\n",
    "from nltk.corpus import stopwords\n",
    "\n",
    "lemmatizer = WordNetLemmatizer()\n",
    "\n",
    "def text_preprocessing_pipeline(text):\n",
    "    \"\"\"\n",
    "    Preprocesses a text string by applying standard NLP cleaning steps:\n",
    "    tokenization, stop word removal, punctuation removal, and lemmatization.\n",
    "\n",
    "    Parameters:\n",
    "        text (str): The input text string to preprocess.\n",
    "\n",
    "    Returns:\n",
    "        str: A cleaned and lemmatized string with tokens joined by spaces.\n",
    "    \"\"\"\n",
    "    # Tokenize the text\n",
    "    tokenized_text = word_tokenize(text.lower())\n",
    "\n",
    "    # Remove stop words\n",
    "    stop_words = set(stopwords.words(\"english\"))\n",
    "    filtered_tokens = [w for w in tokenized_text if w.lower() not in stop_words]\n",
    "\n",
    "    # Remove punctuation\n",
    "    filtered_tokens = [w for w in filtered_tokens if w not in string.punctuation]\n",
    "\n",
    "    # Apply lemmatization\n",
    "    lemmatized_tokens = [lemmatizer.lemmatize(w) for w in filtered_tokens]\n",
    "\n",
    "    return \" \".join(lemmatized_tokens)\n",
    "\n",
    "X_train[\"title_text\"] = X_train[\"title_text\"].apply(text_preprocessing_pipeline)"
   ]
  },
  {
   "cell_type": "markdown",
   "metadata": {},
   "source": [
    "## Visualization"
   ]
  },
  {
   "cell_type": "code",
   "execution_count": null,
   "metadata": {},
   "outputs": [],
   "source": [
    "import matplotlib.pyplot as plt\n",
    "import seaborn as sns\n",
    "\n",
    "# Distribution of the target variable (label)\n",
    "print(news_articles['label'].value_counts())\n",
    "sns.countplot(x='label', data=news_articles)\n",
    "plt.title('Distribution of Labels (Fake vs Real)')\n",
    "plt.show()\n",
    "\n",
    "# Add a new column 'text_length'\n",
    "news_articles['text_length'] = news_articles['title_text'].apply(lambda x: len(x))\n",
    "\n",
    "# Length of the texts (tokens)\n",
    "sns.histplot(news_articles['text_length'], bins=50)\n",
    "plt.title('Distribution of Text Lengths')\n",
    "plt.show()\n",
    "\n",
    "# Remove column, it is not needed anymore\n",
    "news_articles.drop(columns=[\"text_length\"], inplace=True)"
   ]
  }
 ],
 "metadata": {
  "kernelspec": {
   "display_name": "ironhack",
   "language": "python",
   "name": "python3"
  },
  "language_info": {
   "codemirror_mode": {
    "name": "ipython",
    "version": 3
   },
   "file_extension": ".py",
   "mimetype": "text/x-python",
   "name": "python",
   "nbconvert_exporter": "python",
   "pygments_lexer": "ipython3",
   "version": "3.12.10"
  }
 },
 "nbformat": 4,
 "nbformat_minor": 2
}
